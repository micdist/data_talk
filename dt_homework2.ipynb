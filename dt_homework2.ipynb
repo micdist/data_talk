{
 "cells": [
  {
   "cell_type": "markdown",
   "id": "ebc1cd70-e61f-4619-9516-509ba4e7dac6",
   "metadata": {
    "jp-MarkdownHeadingCollapsed": true
   },
   "source": [
    "## Basics"
   ]
  },
  {
   "cell_type": "code",
   "execution_count": 3,
   "id": "652620f7-e001-47b1-9dc1-a5bfba7a9020",
   "metadata": {},
   "outputs": [],
   "source": [
    "import numpy as np\n",
    "import pandas as pd\n",
    "import matplotlib as plt\n",
    "import seaborn as sns\n",
    "from matplotlib import pyplot as plt\n",
    "%matplotlib inline"
   ]
  },
  {
   "cell_type": "code",
   "execution_count": 4,
   "id": "0db1ab5f-f464-45fe-8e02-f49b1f4cb2fe",
   "metadata": {},
   "outputs": [
    {
     "data": {
      "text/html": [
       "<div>\n",
       "<style scoped>\n",
       "    .dataframe tbody tr th:only-of-type {\n",
       "        vertical-align: middle;\n",
       "    }\n",
       "\n",
       "    .dataframe tbody tr th {\n",
       "        vertical-align: top;\n",
       "    }\n",
       "\n",
       "    .dataframe thead th {\n",
       "        text-align: right;\n",
       "    }\n",
       "</style>\n",
       "<table border=\"1\" class=\"dataframe\">\n",
       "  <thead>\n",
       "    <tr style=\"text-align: right;\">\n",
       "      <th></th>\n",
       "      <th>Laptop</th>\n",
       "      <th>Status</th>\n",
       "      <th>Brand</th>\n",
       "      <th>Model</th>\n",
       "      <th>CPU</th>\n",
       "      <th>RAM</th>\n",
       "      <th>Storage</th>\n",
       "      <th>Storage type</th>\n",
       "      <th>GPU</th>\n",
       "      <th>Screen</th>\n",
       "      <th>Touch</th>\n",
       "      <th>Final Price</th>\n",
       "    </tr>\n",
       "  </thead>\n",
       "  <tbody>\n",
       "    <tr>\n",
       "      <th>0</th>\n",
       "      <td>ASUS ExpertBook B1 B1502CBA-EJ0436X Intel Core...</td>\n",
       "      <td>New</td>\n",
       "      <td>Asus</td>\n",
       "      <td>ExpertBook</td>\n",
       "      <td>Intel Core i5</td>\n",
       "      <td>8</td>\n",
       "      <td>512</td>\n",
       "      <td>SSD</td>\n",
       "      <td>NaN</td>\n",
       "      <td>15.6</td>\n",
       "      <td>No</td>\n",
       "      <td>1009.00</td>\n",
       "    </tr>\n",
       "    <tr>\n",
       "      <th>1</th>\n",
       "      <td>Alurin Go Start Intel Celeron N4020/8GB/256GB ...</td>\n",
       "      <td>New</td>\n",
       "      <td>Alurin</td>\n",
       "      <td>Go</td>\n",
       "      <td>Intel Celeron</td>\n",
       "      <td>8</td>\n",
       "      <td>256</td>\n",
       "      <td>SSD</td>\n",
       "      <td>NaN</td>\n",
       "      <td>15.6</td>\n",
       "      <td>No</td>\n",
       "      <td>299.00</td>\n",
       "    </tr>\n",
       "    <tr>\n",
       "      <th>2</th>\n",
       "      <td>ASUS ExpertBook B1 B1502CBA-EJ0424X Intel Core...</td>\n",
       "      <td>New</td>\n",
       "      <td>Asus</td>\n",
       "      <td>ExpertBook</td>\n",
       "      <td>Intel Core i3</td>\n",
       "      <td>8</td>\n",
       "      <td>256</td>\n",
       "      <td>SSD</td>\n",
       "      <td>NaN</td>\n",
       "      <td>15.6</td>\n",
       "      <td>No</td>\n",
       "      <td>789.00</td>\n",
       "    </tr>\n",
       "    <tr>\n",
       "      <th>3</th>\n",
       "      <td>MSI Katana GF66 12UC-082XES Intel Core i7-1270...</td>\n",
       "      <td>New</td>\n",
       "      <td>MSI</td>\n",
       "      <td>Katana</td>\n",
       "      <td>Intel Core i7</td>\n",
       "      <td>16</td>\n",
       "      <td>1000</td>\n",
       "      <td>SSD</td>\n",
       "      <td>RTX 3050</td>\n",
       "      <td>15.6</td>\n",
       "      <td>No</td>\n",
       "      <td>1199.00</td>\n",
       "    </tr>\n",
       "    <tr>\n",
       "      <th>4</th>\n",
       "      <td>HP 15S-FQ5085NS Intel Core i5-1235U/16GB/512GB...</td>\n",
       "      <td>New</td>\n",
       "      <td>HP</td>\n",
       "      <td>15S</td>\n",
       "      <td>Intel Core i5</td>\n",
       "      <td>16</td>\n",
       "      <td>512</td>\n",
       "      <td>SSD</td>\n",
       "      <td>NaN</td>\n",
       "      <td>15.6</td>\n",
       "      <td>No</td>\n",
       "      <td>669.01</td>\n",
       "    </tr>\n",
       "  </tbody>\n",
       "</table>\n",
       "</div>"
      ],
      "text/plain": [
       "                                              Laptop Status   Brand  \\\n",
       "0  ASUS ExpertBook B1 B1502CBA-EJ0436X Intel Core...    New    Asus   \n",
       "1  Alurin Go Start Intel Celeron N4020/8GB/256GB ...    New  Alurin   \n",
       "2  ASUS ExpertBook B1 B1502CBA-EJ0424X Intel Core...    New    Asus   \n",
       "3  MSI Katana GF66 12UC-082XES Intel Core i7-1270...    New     MSI   \n",
       "4  HP 15S-FQ5085NS Intel Core i5-1235U/16GB/512GB...    New      HP   \n",
       "\n",
       "        Model            CPU  RAM  Storage Storage type       GPU  Screen  \\\n",
       "0  ExpertBook  Intel Core i5    8      512          SSD       NaN    15.6   \n",
       "1          Go  Intel Celeron    8      256          SSD       NaN    15.6   \n",
       "2  ExpertBook  Intel Core i3    8      256          SSD       NaN    15.6   \n",
       "3      Katana  Intel Core i7   16     1000          SSD  RTX 3050    15.6   \n",
       "4         15S  Intel Core i5   16      512          SSD       NaN    15.6   \n",
       "\n",
       "  Touch  Final Price  \n",
       "0    No      1009.00  \n",
       "1    No       299.00  \n",
       "2    No       789.00  \n",
       "3    No      1199.00  \n",
       "4    No       669.01  "
      ]
     },
     "execution_count": 4,
     "metadata": {},
     "output_type": "execute_result"
    }
   ],
   "source": [
    "#read csv and make a panda dataframe with columns header\n",
    "df = pd.read_csv(\"laptops.csv\")\n",
    "df.head()"
   ]
  },
  {
   "cell_type": "code",
   "execution_count": 5,
   "id": "91de53a2-ad51-4950-a538-fd9175934bdc",
   "metadata": {},
   "outputs": [
    {
     "data": {
      "text/plain": [
       "Index(['laptop', 'status', 'brand', 'model', 'cpu', 'ram', 'storage',\n",
       "       'storage_type', 'gpu', 'screen', 'touch', 'final_price'],\n",
       "      dtype='object')"
      ]
     },
     "execution_count": 5,
     "metadata": {},
     "output_type": "execute_result"
    }
   ],
   "source": [
    "#normalize columns'names\n",
    "df.columns = df.columns.str.lower().str.replace(' ', '_')\n",
    "df.columns"
   ]
  },
  {
   "cell_type": "code",
   "execution_count": 380,
   "id": "8c8e04e5-f04e-46d0-b329-2ad993b84974",
   "metadata": {},
   "outputs": [
    {
     "name": "stdout",
     "output_type": "stream",
     "text": [
      "storage_type 42\n",
      "gpu 1371\n",
      "screen 4\n"
     ]
    }
   ],
   "source": [
    "for col in df.columns:\n",
    "    print(col,df[col].isnull().sum()) if df[col].isna().any() else None"
   ]
  },
  {
   "cell_type": "code",
   "execution_count": 9,
   "id": "9507c12f-db1b-4dbd-a706-b8b96685c34f",
   "metadata": {},
   "outputs": [
    {
     "data": {
      "text/plain": [
       "ram            False\n",
       "storage        False\n",
       "screen          True\n",
       "final_price    False\n",
       "dtype: bool"
      ]
     },
     "execution_count": 9,
     "metadata": {},
     "output_type": "execute_result"
    }
   ],
   "source": [
    "#Question 1\n",
    "df_f = df[[\"ram\",\"storage\",\"screen\",\"final_price\"]]\n",
    "df_f.isna().any()"
   ]
  },
  {
   "cell_type": "code",
   "execution_count": 382,
   "id": "6b690767-48cc-40f6-bc58-c7cd0dae0921",
   "metadata": {},
   "outputs": [
    {
     "name": "stdout",
     "output_type": "stream",
     "text": [
      "screen 4\n"
     ]
    }
   ],
   "source": [
    "for col in df[[\"ram\",\"storage\",\"screen\",\"final_price\"]]:\n",
    "    print(col,df[col].isnull().sum()) if df[[col]].isna().any().any() else None"
   ]
  },
  {
   "cell_type": "code",
   "execution_count": 383,
   "id": "56aa742d-295d-44b0-a4d0-20b1b027c3b1",
   "metadata": {},
   "outputs": [
    {
     "name": "stdout",
     "output_type": "stream",
     "text": [
      "screen 4\n"
     ]
    }
   ],
   "source": [
    "for col in df_f.columns:\n",
    "    print(col,df_f[col].isnull().sum()) if df_f[[col]].isna().any().any() else None"
   ]
  },
  {
   "cell_type": "code",
   "execution_count": 384,
   "id": "8fc81386-668a-4f33-94aa-a20655e26fb8",
   "metadata": {},
   "outputs": [
    {
     "data": {
      "text/plain": [
       "16.0"
      ]
     },
     "execution_count": 384,
     "metadata": {},
     "output_type": "execute_result"
    }
   ],
   "source": [
    "#Question 2\n",
    "df_f.ram.median()"
   ]
  },
  {
   "cell_type": "code",
   "execution_count": 385,
   "id": "a025e4c3-65eb-4115-bf02-f9dbea97681e",
   "metadata": {},
   "outputs": [],
   "source": [
    "#shuffle data\n",
    "n = len(df_f)\n",
    "n_val = int(0.2 * n)\n",
    "n_test = int(0.2 * n)\n",
    "n_train = n - n_val - n_test\n",
    "\n",
    "np.random.seed(42)\n",
    "\n",
    "idx = np.arange(n)\n",
    "np.random.shuffle(idx)\n",
    "\n",
    "df_shuffled = df_f.iloc[idx]\n",
    "\n",
    "df_train = df_shuffled.iloc[:n_train].copy()\n",
    "df_val = df_shuffled.iloc[n_train : n_train + n_val].copy()\n",
    "df_test = df_shuffled.iloc[n_train + n_val : ].copy()"
   ]
  },
  {
   "cell_type": "code",
   "execution_count": 386,
   "id": "d1ec71ad-1dd8-4d11-b49b-66971261c271",
   "metadata": {},
   "outputs": [],
   "source": [
    "y_train_orig = df_train.final_price.values\n",
    "y_val_orig = df_val.final_price.values\n",
    "y_test_orig = df_test.final_price.values\n",
    "\n",
    "y_train = np.log1p(df_train.final_price.values)\n",
    "y_val = np.log1p(df_val.final_price.values)\n",
    "y_test = np.log1p(df_test.final_price.values)\n",
    "\n",
    "del df_train[\"final_price\"]\n",
    "del df_val[\"final_price\"]\n",
    "del df_test[\"final_price\"]"
   ]
  },
  {
   "cell_type": "code",
   "execution_count": 387,
   "id": "92f5e0ad-fc47-4993-870d-59a09440bdbf",
   "metadata": {},
   "outputs": [],
   "source": [
    "def train_linear_regression(X,y):\n",
    "    \n",
    "    ones = np.ones(X.shape[0])\n",
    "    X = np.column_stack([ones, X])\n",
    "    \n",
    "    XTX = X.T.dot(X)\n",
    "    XTX_inv = np.linalg.inv(XTX)\n",
    "    w = XTX_inv.dot(X.T).dot(y)\n",
    "    \n",
    "    return w[0], w[1:]"
   ]
  },
  {
   "cell_type": "code",
   "execution_count": 388,
   "id": "e8fcf536-fc0e-4e14-8136-b288adc3436d",
   "metadata": {},
   "outputs": [
    {
     "name": "stdout",
     "output_type": "stream",
     "text": [
      "<class 'pandas.core.frame.DataFrame'>\n",
      "Index: 1296 entries, 2079 to 796\n",
      "Data columns (total 3 columns):\n",
      " #   Column   Non-Null Count  Dtype  \n",
      "---  ------   --------------  -----  \n",
      " 0   ram      1296 non-null   int64  \n",
      " 1   storage  1296 non-null   int64  \n",
      " 2   screen   1293 non-null   float64\n",
      "dtypes: float64(1), int64(2)\n",
      "memory usage: 40.5 KB\n"
     ]
    }
   ],
   "source": [
    "df_train.info()"
   ]
  },
  {
   "cell_type": "markdown",
   "id": "3c180bf1-e935-4240-bbe3-c3223428027d",
   "metadata": {
    "jp-MarkdownHeadingCollapsed": true
   },
   "source": [
    "## ZEROS"
   ]
  },
  {
   "cell_type": "code",
   "execution_count": 6,
   "id": "31504bc7-6acf-4e3b-ba07-2a0efc1db2ee",
   "metadata": {},
   "outputs": [],
   "source": [
    "def prepare_X_zeros(df):\n",
    "    df_num = df.fillna(0)\n",
    "    X = df_num.values\n",
    "    return X"
   ]
  },
  {
   "cell_type": "code",
   "execution_count": 390,
   "id": "38e3d8ea-7464-400b-bfa4-c1302ff7f090",
   "metadata": {},
   "outputs": [],
   "source": [
    "X_train = prepare_X_zeros(df_train)\n",
    "w_0, w = train_linear_regression(X_train, y_train)"
   ]
  },
  {
   "cell_type": "code",
   "execution_count": 391,
   "id": "e0b65c1c-b1ae-43e5-ac52-cd863c741490",
   "metadata": {},
   "outputs": [],
   "source": [
    "y_pred = w_0 + X_train.dot(w)"
   ]
  },
  {
   "cell_type": "code",
   "execution_count": 402,
   "id": "38a89471-a4a3-41ff-a3c1-83656e1333a4",
   "metadata": {},
   "outputs": [
    {
     "data": {
      "image/png": "[encoded data removed]",
      "text/plain": [
       "<Figure size 600x400 with 1 Axes>"
      ]
     },
     "metadata": {},
     "output_type": "display_data"
    }
   ],
   "source": [
    "plt.figure(figsize=(6, 4))\n",
    "\n",
    "sns.histplot(y_train, label='target', color='red')\n",
    "sns.histplot(y_pred, label='prediction', color='blue')\n",
    "\n",
    "plt.legend()\n",
    "\n",
    "plt.ylabel('pred')\n",
    "plt.xlabel('x_train')\n",
    "plt.title('Predictions vs actual distribution')\n",
    "\n",
    "plt.show()"
   ]
  },
  {
   "cell_type": "code",
   "execution_count": 8,
   "id": "1ccf7fb9-37dd-43eb-afa0-024a65dafe78",
   "metadata": {},
   "outputs": [],
   "source": [
    "def rmse (y,y_pred):\n",
    "\n",
    "    error = y_pred - y\n",
    "    mse = (error**2).mean()\n",
    "\n",
    "    return np.sqrt(mse)"
   ]
  },
  {
   "cell_type": "code",
   "execution_count": 404,
   "id": "c0c8c1ea-3274-4529-bb18-41173c584cd9",
   "metadata": {},
   "outputs": [],
   "source": [
    "rmse_train_zeros = rmse(y_train, y_pred).round(2)"
   ]
  },
  {
   "cell_type": "code",
   "execution_count": 405,
   "id": "425384a5-a0f8-4242-af03-c14112eee935",
   "metadata": {},
   "outputs": [],
   "source": [
    "X_val = prepare_X_zeros(df_val)\n",
    "y_pred_val = w_0 + X_val.dot(w)"
   ]
  },
  {
   "cell_type": "code",
   "execution_count": 406,
   "id": "d6fcb98e-e114-4b0f-8b7d-5c16afbdc1f2",
   "metadata": {},
   "outputs": [],
   "source": [
    "rmse_val_zeros = rmse(y_val, y_pred_val).round(2)"
   ]
  },
  {
   "cell_type": "code",
   "execution_count": 407,
   "id": "d4cc185a-0d56-4743-b779-39b9d56d82f1",
   "metadata": {},
   "outputs": [
    {
     "data": {
      "text/plain": [
       "(0.45, 0.43)"
      ]
     },
     "execution_count": 407,
     "metadata": {},
     "output_type": "execute_result"
    }
   ],
   "source": [
    "rmse_train_zeros, rmse_val_zeros"
   ]
  },
  {
   "cell_type": "markdown",
   "id": "c0070702-62dd-4910-92b7-67092db3a29e",
   "metadata": {
    "jp-MarkdownHeadingCollapsed": true
   },
   "source": [
    "## MEAN"
   ]
  },
  {
   "cell_type": "code",
   "execution_count": 260,
   "id": "9583ac3d-b0d7-4d7a-bfdd-d19791bd43f2",
   "metadata": {},
   "outputs": [],
   "source": [
    "def prepare_X_mean(df):\n",
    "    df_num = df.fillna(df.mean())\n",
    "    X = df_num.values\n",
    "    return X"
   ]
  },
  {
   "cell_type": "code",
   "execution_count": 261,
   "id": "ae71a241-a80b-4ce3-916f-2fc85616ecd4",
   "metadata": {},
   "outputs": [],
   "source": [
    "X_train = prepare_X_mean(df_train)\n",
    "w_0, w = train_linear_regression(X_train, y_train)"
   ]
  },
  {
   "cell_type": "code",
   "execution_count": 262,
   "id": "e6c81dc1-fc49-4003-a652-4705b4b8dae8",
   "metadata": {},
   "outputs": [],
   "source": [
    "y_pred = w_0 + X_train.dot(w)"
   ]
  },
  {
   "cell_type": "code",
   "execution_count": 263,
   "id": "d266c6fd-dc5f-4a85-a072-e7b665d2c610",
   "metadata": {},
   "outputs": [],
   "source": [
    "rmse_train_mean = rmse(y_train, y_pred).round(2)"
   ]
  },
  {
   "cell_type": "code",
   "execution_count": 264,
   "id": "90a37faa-d64f-4021-90d5-c588744afffe",
   "metadata": {},
   "outputs": [],
   "source": [
    "X_val = prepare_X_mean(df_val)\n",
    "y_pred_val = w_0 + X_val.dot(w)"
   ]
  },
  {
   "cell_type": "code",
   "execution_count": 265,
   "id": "b2a6751a-becc-4a0b-b602-aea5c5e579e8",
   "metadata": {},
   "outputs": [],
   "source": [
    "rmse_val_mean = rmse(y_val, y_pred_val).round(2)"
   ]
  },
  {
   "cell_type": "code",
   "execution_count": 266,
   "id": "e2cc33e6-f69b-4410-aa28-8e948451d8bf",
   "metadata": {},
   "outputs": [
    {
     "data": {
      "text/plain": [
       "(0.45, 0.43)"
      ]
     },
     "execution_count": 266,
     "metadata": {},
     "output_type": "execute_result"
    }
   ],
   "source": [
    "rmse_train_mean, rmse_val_mean"
   ]
  },
  {
   "cell_type": "markdown",
   "id": "bf0dd3c4-9be9-4ffd-ad23-7ec5f709ed58",
   "metadata": {},
   "source": [
    "## Regularized linear regression"
   ]
  },
  {
   "cell_type": "code",
   "execution_count": 7,
   "id": "73f43a7c-9687-4d7d-bc71-37c2d161adcd",
   "metadata": {},
   "outputs": [],
   "source": [
    "def train_linear_regression_reg(X,y, r=0):\n",
    "    \n",
    "    ones = np.ones(X.shape[0])\n",
    "    X = np.column_stack([ones, X])\n",
    "    \n",
    "    XTX = X.T.dot(X)\n",
    "    reg = r * np.eye(XTX.shape[0])\n",
    "    XTX = XTX + reg\n",
    "    XTX_inv = np.linalg.inv(XTX)\n",
    "    w = XTX_inv.dot(X.T).dot(y)\n",
    "    \n",
    "    return w[0], w[1:]"
   ]
  },
  {
   "cell_type": "code",
   "execution_count": 269,
   "id": "93d15a52-3c0e-43ec-bc93-1da5fcb5f768",
   "metadata": {},
   "outputs": [],
   "source": [
    "X_train = prepare_X_zeros(df_train)\n",
    "w_0, w = train_linear_regression_reg(X_train, y_train)"
   ]
  },
  {
   "cell_type": "code",
   "execution_count": 273,
   "id": "c2610d34-3f57-46d6-a5d7-15c0fd1891f9",
   "metadata": {},
   "outputs": [
    {
     "name": "stdout",
     "output_type": "stream",
     "text": [
      "         0 0.43\n",
      "      0.01 0.43\n",
      "       0.1 0.43\n",
      "         1 0.43\n",
      "         5 0.45\n",
      "        10 0.48\n",
      "       100 0.6\n"
     ]
    }
   ],
   "source": [
    "for r in [0, 0.01, 0.1, 1, 5, 10, 100]:\n",
    "    w_0, w = train_linear_regression_reg(X_train, y_train, r=r)\n",
    "    y_pred = w_0 + X_val.dot(w)\n",
    "    print(\"%10s\"  %r, rmse(y_val, y_pred).round(2))"
   ]
  },
  {
   "cell_type": "markdown",
   "id": "06d463d8-fd65-40c9-b3e4-2b40e618b717",
   "metadata": {
    "jp-MarkdownHeadingCollapsed": true
   },
   "source": [
    "## RMSE spread"
   ]
  },
  {
   "cell_type": "code",
   "execution_count": 293,
   "id": "e41de874-f4c4-4612-b03b-b583661dd4fe",
   "metadata": {},
   "outputs": [],
   "source": [
    "seeds = [0, 1, 2, 3, 4, 5, 6, 7, 8, 9]"
   ]
  },
  {
   "cell_type": "code",
   "execution_count": 366,
   "id": "32cb484c-c57d-4344-b382-991a94dec7d0",
   "metadata": {},
   "outputs": [],
   "source": [
    "rmse_scores = []\n",
    "for s in seeds:\n",
    "    \n",
    "    n = len(df_f)\n",
    "    n_val = int(0.2 * n)\n",
    "    n_test = int(0.2 * n)\n",
    "    n_train = n - n_val - n_test\n",
    "\n",
    "    np.random.seed(s)\n",
    "\n",
    "    idx = np.arange(n)\n",
    "    np.random.shuffle(idx)\n",
    "    \n",
    "    df_shuffled = df_f.iloc[idx]\n",
    "    \n",
    "    df_train = df_shuffled.iloc[:n_train].copy()\n",
    "    df_val = df_shuffled.iloc[n_train : n_train + n_val].copy()\n",
    "    df_test = df_shuffled.iloc[n_train + n_val : ].copy()\n",
    "\n",
    "    y_train_orig = df_train.final_price.values\n",
    "    y_val_orig = df_val.final_price.values\n",
    "    y_test_orig = df_test.final_price.values\n",
    "    \n",
    "    y_train = (df_train.final_price.values)\n",
    "    y_val = (df_val.final_price.values)\n",
    "    y_test = (df_test.final_price.values)\n",
    "    \n",
    "    del df_train[\"final_price\"]\n",
    "    del df_val[\"final_price\"]\n",
    "    del df_test[\"final_price\"]\n",
    "\n",
    "    X_train = prepare_X_zeros(df_train)\n",
    "    X_val = prepare_X_zeros(df_val)\n",
    "    \n",
    "    w_0, w = train_linear_regression(X_train, y_train)\n",
    "    y_pred_val = w_0 + X_val.dot(w)\n",
    "\n",
    "    rmse_scores.append(rmse(y_val, y_pred_val))    "
   ]
  },
  {
   "cell_type": "code",
   "execution_count": 367,
   "id": "8d0fbff6-c381-4fc7-b11b-dac6d76e7f47",
   "metadata": {},
   "outputs": [
    {
     "data": {
      "text/plain": [
       "[565.4520868770995,\n",
       " 636.7985423056726,\n",
       " 588.955869790796,\n",
       " 597.8148920012515,\n",
       " 571.962791511103,\n",
       " 573.238325661895,\n",
       " 647.3438328407194,\n",
       " 550.4398184485962,\n",
       " 587.3335036169963,\n",
       " 576.101792943313]"
      ]
     },
     "execution_count": 367,
     "metadata": {},
     "output_type": "execute_result"
    }
   ],
   "source": [
    "rmse_scores"
   ]
  },
  {
   "cell_type": "code",
   "execution_count": 368,
   "id": "e1ff709f-1852-49f8-9996-f8284dbf1e8c",
   "metadata": {},
   "outputs": [
    {
     "name": "stdout",
     "output_type": "stream",
     "text": [
      "29.176\n"
     ]
    }
   ],
   "source": [
    "rmse_std = np.std(rmse_scores)\n",
    "print(rmse_std.round(3))"
   ]
  },
  {
   "cell_type": "markdown",
   "id": "e99f2adb-91e7-4787-97dd-207627eb822f",
   "metadata": {
    "jp-MarkdownHeadingCollapsed": true
   },
   "source": [
    "## RMSE test"
   ]
  },
  {
   "cell_type": "code",
   "execution_count": 11,
   "id": "5d9e53f5-1e7c-44ac-865b-e0cc69abeaaa",
   "metadata": {},
   "outputs": [
    {
     "name": "stdout",
     "output_type": "stream",
     "text": [
      "608.6099822049559\n"
     ]
    }
   ],
   "source": [
    "n = len(df_f)\n",
    "n_train_val = int(0.8 * n)\n",
    "\n",
    "n_test = n - n_train_val\n",
    "\n",
    "np.random.seed(9)\n",
    "\n",
    "idx = np.arange(n)\n",
    "np.random.shuffle(idx)\n",
    "\n",
    "df_shuffled = df_f.iloc[idx]\n",
    "\n",
    "df_train = df_shuffled.iloc[:n_train_val].copy()\n",
    "df_test = df_shuffled.iloc[n_train_val :].copy()\n",
    "\n",
    "\n",
    "y_train = (df_train.final_price.values)\n",
    "y_test = (df_test.final_price.values)\n",
    "\n",
    "del df_train[\"final_price\"]\n",
    "del df_test[\"final_price\"]\n",
    "\n",
    "\n",
    "X_train = prepare_X_zeros(df_train)\n",
    "X_test = prepare_X_zeros(df_test)\n",
    "\n",
    "w_0, w = train_linear_regression_reg(X_train, y_train,r=0.001)\n",
    "y_pred_test = w_0 + X_test.dot(w)\n",
    "\n",
    "\n",
    "print((rmse(y_test, y_pred_test)))"
   ]
  },
  {
   "cell_type": "code",
   "execution_count": null,
   "id": "24e96cfc",
   "metadata": {},
   "outputs": [],
   "source": []
  }
 ],
 "metadata": {
  "kernelspec": {
   "display_name": "Python 3 (ipykernel)",
   "language": "python",
   "name": "python3"
  },
  "language_info": {
   "codemirror_mode": {
    "name": "ipython",
    "version": 3
   },
   "file_extension": ".py",
   "mimetype": "text/x-python",
   "name": "python",
   "nbconvert_exporter": "python",
   "pygments_lexer": "ipython3",
   "version": "3.10.13"
  }
 },
 "nbformat": 4,
 "nbformat_minor": 5
}
